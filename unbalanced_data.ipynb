{
 "cells": [
  {
   "cell_type": "markdown",
   "id": "19c753c0",
   "metadata": {},
   "source": [
    "Churn prediction and Customer segmentation"
   ]
  },
  {
   "cell_type": "code",
   "execution_count": 3,
   "id": "53c87898",
   "metadata": {},
   "outputs": [],
   "source": [
    "import pandas as pd\n",
    "import numpy as np\n",
    "from sklearn.utils import resample\n",
    "\n",
    "\n",
    "from sklearn.neighbors import KNeighborsClassifier\n",
    "from sklearn.preprocessing import StandardScaler\n",
    "from sklearn.naive_bayes import GaussianNB\n",
    "from sklearn.tree import DecisionTreeClassifier \n",
    "from sklearn.linear_model import LogisticRegression\n",
    "from sklearn import svm\n",
    "\n",
    "from scipy.stats import pearsonr, spearmanr\n",
    "\n",
    "from matplotlib import pyplot as plt\n",
    "from sklearn.utils import resample\n",
    "\n",
    "\n",
    "from sklearn.model_selection import train_test_split\n",
    "\n",
    "from sklearn.metrics import f1_score\n",
    "from sklearn.metrics import recall_score\n",
    "from sklearn.metrics import accuracy_score\n"
   ]
  },
  {
   "cell_type": "code",
   "execution_count": 4,
   "id": "7287b5a5",
   "metadata": {},
   "outputs": [
    {
     "data": {
      "text/html": [
       "<div>\n",
       "<style scoped>\n",
       "    .dataframe tbody tr th:only-of-type {\n",
       "        vertical-align: middle;\n",
       "    }\n",
       "\n",
       "    .dataframe tbody tr th {\n",
       "        vertical-align: top;\n",
       "    }\n",
       "\n",
       "    .dataframe thead th {\n",
       "        text-align: right;\n",
       "    }\n",
       "</style>\n",
       "<table border=\"1\" class=\"dataframe\">\n",
       "  <thead>\n",
       "    <tr style=\"text-align: right;\">\n",
       "      <th></th>\n",
       "      <th>RowNumber</th>\n",
       "      <th>CustomerId</th>\n",
       "      <th>Surname</th>\n",
       "      <th>CreditScore</th>\n",
       "      <th>Geography</th>\n",
       "      <th>Gender</th>\n",
       "      <th>Age</th>\n",
       "      <th>Tenure</th>\n",
       "      <th>Balance</th>\n",
       "      <th>NumOfProducts</th>\n",
       "      <th>HasCrCard</th>\n",
       "      <th>IsActiveMember</th>\n",
       "      <th>EstimatedSalary</th>\n",
       "      <th>Exited</th>\n",
       "    </tr>\n",
       "  </thead>\n",
       "  <tbody>\n",
       "    <tr>\n",
       "      <th>0</th>\n",
       "      <td>1</td>\n",
       "      <td>15634602</td>\n",
       "      <td>Hargrave</td>\n",
       "      <td>619</td>\n",
       "      <td>France</td>\n",
       "      <td>Female</td>\n",
       "      <td>42.0</td>\n",
       "      <td>2</td>\n",
       "      <td>0.00</td>\n",
       "      <td>1</td>\n",
       "      <td>1.0</td>\n",
       "      <td>1.0</td>\n",
       "      <td>101348.88</td>\n",
       "      <td>1</td>\n",
       "    </tr>\n",
       "    <tr>\n",
       "      <th>1</th>\n",
       "      <td>2</td>\n",
       "      <td>15647311</td>\n",
       "      <td>Hill</td>\n",
       "      <td>608</td>\n",
       "      <td>Spain</td>\n",
       "      <td>Female</td>\n",
       "      <td>41.0</td>\n",
       "      <td>1</td>\n",
       "      <td>83807.86</td>\n",
       "      <td>1</td>\n",
       "      <td>0.0</td>\n",
       "      <td>1.0</td>\n",
       "      <td>112542.58</td>\n",
       "      <td>0</td>\n",
       "    </tr>\n",
       "    <tr>\n",
       "      <th>2</th>\n",
       "      <td>3</td>\n",
       "      <td>15619304</td>\n",
       "      <td>Onio</td>\n",
       "      <td>502</td>\n",
       "      <td>France</td>\n",
       "      <td>Female</td>\n",
       "      <td>42.0</td>\n",
       "      <td>8</td>\n",
       "      <td>159660.80</td>\n",
       "      <td>3</td>\n",
       "      <td>1.0</td>\n",
       "      <td>0.0</td>\n",
       "      <td>113931.57</td>\n",
       "      <td>1</td>\n",
       "    </tr>\n",
       "    <tr>\n",
       "      <th>3</th>\n",
       "      <td>4</td>\n",
       "      <td>15701354</td>\n",
       "      <td>Boni</td>\n",
       "      <td>699</td>\n",
       "      <td>France</td>\n",
       "      <td>Female</td>\n",
       "      <td>39.0</td>\n",
       "      <td>1</td>\n",
       "      <td>0.00</td>\n",
       "      <td>2</td>\n",
       "      <td>0.0</td>\n",
       "      <td>0.0</td>\n",
       "      <td>93826.63</td>\n",
       "      <td>0</td>\n",
       "    </tr>\n",
       "    <tr>\n",
       "      <th>4</th>\n",
       "      <td>5</td>\n",
       "      <td>15737888</td>\n",
       "      <td>Mitchell</td>\n",
       "      <td>850</td>\n",
       "      <td>Spain</td>\n",
       "      <td>Female</td>\n",
       "      <td>43.0</td>\n",
       "      <td>2</td>\n",
       "      <td>125510.82</td>\n",
       "      <td>1</td>\n",
       "      <td>NaN</td>\n",
       "      <td>1.0</td>\n",
       "      <td>79084.10</td>\n",
       "      <td>0</td>\n",
       "    </tr>\n",
       "    <tr>\n",
       "      <th>...</th>\n",
       "      <td>...</td>\n",
       "      <td>...</td>\n",
       "      <td>...</td>\n",
       "      <td>...</td>\n",
       "      <td>...</td>\n",
       "      <td>...</td>\n",
       "      <td>...</td>\n",
       "      <td>...</td>\n",
       "      <td>...</td>\n",
       "      <td>...</td>\n",
       "      <td>...</td>\n",
       "      <td>...</td>\n",
       "      <td>...</td>\n",
       "      <td>...</td>\n",
       "    </tr>\n",
       "    <tr>\n",
       "      <th>9997</th>\n",
       "      <td>9998</td>\n",
       "      <td>15584532</td>\n",
       "      <td>Liu</td>\n",
       "      <td>709</td>\n",
       "      <td>France</td>\n",
       "      <td>Female</td>\n",
       "      <td>36.0</td>\n",
       "      <td>7</td>\n",
       "      <td>0.00</td>\n",
       "      <td>1</td>\n",
       "      <td>0.0</td>\n",
       "      <td>1.0</td>\n",
       "      <td>42085.58</td>\n",
       "      <td>1</td>\n",
       "    </tr>\n",
       "    <tr>\n",
       "      <th>9998</th>\n",
       "      <td>9999</td>\n",
       "      <td>15682355</td>\n",
       "      <td>Sabbatini</td>\n",
       "      <td>772</td>\n",
       "      <td>Germany</td>\n",
       "      <td>Male</td>\n",
       "      <td>42.0</td>\n",
       "      <td>3</td>\n",
       "      <td>75075.31</td>\n",
       "      <td>2</td>\n",
       "      <td>1.0</td>\n",
       "      <td>0.0</td>\n",
       "      <td>92888.52</td>\n",
       "      <td>1</td>\n",
       "    </tr>\n",
       "    <tr>\n",
       "      <th>9999</th>\n",
       "      <td>9999</td>\n",
       "      <td>15682355</td>\n",
       "      <td>Sabbatini</td>\n",
       "      <td>772</td>\n",
       "      <td>Germany</td>\n",
       "      <td>Male</td>\n",
       "      <td>42.0</td>\n",
       "      <td>3</td>\n",
       "      <td>75075.31</td>\n",
       "      <td>2</td>\n",
       "      <td>1.0</td>\n",
       "      <td>0.0</td>\n",
       "      <td>92888.52</td>\n",
       "      <td>1</td>\n",
       "    </tr>\n",
       "    <tr>\n",
       "      <th>10000</th>\n",
       "      <td>10000</td>\n",
       "      <td>15628319</td>\n",
       "      <td>Walker</td>\n",
       "      <td>792</td>\n",
       "      <td>France</td>\n",
       "      <td>Female</td>\n",
       "      <td>28.0</td>\n",
       "      <td>4</td>\n",
       "      <td>130142.79</td>\n",
       "      <td>1</td>\n",
       "      <td>1.0</td>\n",
       "      <td>0.0</td>\n",
       "      <td>38190.78</td>\n",
       "      <td>0</td>\n",
       "    </tr>\n",
       "    <tr>\n",
       "      <th>10001</th>\n",
       "      <td>10000</td>\n",
       "      <td>15628319</td>\n",
       "      <td>Walker</td>\n",
       "      <td>792</td>\n",
       "      <td>France</td>\n",
       "      <td>Female</td>\n",
       "      <td>28.0</td>\n",
       "      <td>4</td>\n",
       "      <td>130142.79</td>\n",
       "      <td>1</td>\n",
       "      <td>1.0</td>\n",
       "      <td>0.0</td>\n",
       "      <td>38190.78</td>\n",
       "      <td>0</td>\n",
       "    </tr>\n",
       "  </tbody>\n",
       "</table>\n",
       "<p>10002 rows × 14 columns</p>\n",
       "</div>"
      ],
      "text/plain": [
       "       RowNumber  CustomerId    Surname  CreditScore Geography  Gender   Age  \\\n",
       "0              1    15634602   Hargrave          619    France  Female  42.0   \n",
       "1              2    15647311       Hill          608     Spain  Female  41.0   \n",
       "2              3    15619304       Onio          502    France  Female  42.0   \n",
       "3              4    15701354       Boni          699    France  Female  39.0   \n",
       "4              5    15737888   Mitchell          850     Spain  Female  43.0   \n",
       "...          ...         ...        ...          ...       ...     ...   ...   \n",
       "9997        9998    15584532        Liu          709    France  Female  36.0   \n",
       "9998        9999    15682355  Sabbatini          772   Germany    Male  42.0   \n",
       "9999        9999    15682355  Sabbatini          772   Germany    Male  42.0   \n",
       "10000      10000    15628319     Walker          792    France  Female  28.0   \n",
       "10001      10000    15628319     Walker          792    France  Female  28.0   \n",
       "\n",
       "       Tenure    Balance  NumOfProducts  HasCrCard  IsActiveMember  \\\n",
       "0           2       0.00              1        1.0             1.0   \n",
       "1           1   83807.86              1        0.0             1.0   \n",
       "2           8  159660.80              3        1.0             0.0   \n",
       "3           1       0.00              2        0.0             0.0   \n",
       "4           2  125510.82              1        NaN             1.0   \n",
       "...       ...        ...            ...        ...             ...   \n",
       "9997        7       0.00              1        0.0             1.0   \n",
       "9998        3   75075.31              2        1.0             0.0   \n",
       "9999        3   75075.31              2        1.0             0.0   \n",
       "10000       4  130142.79              1        1.0             0.0   \n",
       "10001       4  130142.79              1        1.0             0.0   \n",
       "\n",
       "       EstimatedSalary  Exited  \n",
       "0            101348.88       1  \n",
       "1            112542.58       0  \n",
       "2            113931.57       1  \n",
       "3             93826.63       0  \n",
       "4             79084.10       0  \n",
       "...                ...     ...  \n",
       "9997          42085.58       1  \n",
       "9998          92888.52       1  \n",
       "9999          92888.52       1  \n",
       "10000         38190.78       0  \n",
       "10001         38190.78       0  \n",
       "\n",
       "[10002 rows x 14 columns]"
      ]
     },
     "execution_count": 4,
     "metadata": {},
     "output_type": "execute_result"
    }
   ],
   "source": [
    "data = pd.read_csv('Churn_Modelling.csv')\n",
    "data"
   ]
  },
  {
   "cell_type": "code",
   "execution_count": 5,
   "id": "3a0dbaa7",
   "metadata": {},
   "outputs": [
    {
     "data": {
      "text/html": [
       "<div>\n",
       "<style scoped>\n",
       "    .dataframe tbody tr th:only-of-type {\n",
       "        vertical-align: middle;\n",
       "    }\n",
       "\n",
       "    .dataframe tbody tr th {\n",
       "        vertical-align: top;\n",
       "    }\n",
       "\n",
       "    .dataframe thead th {\n",
       "        text-align: right;\n",
       "    }\n",
       "</style>\n",
       "<table border=\"1\" class=\"dataframe\">\n",
       "  <thead>\n",
       "    <tr style=\"text-align: right;\">\n",
       "      <th></th>\n",
       "      <th>CreditScore</th>\n",
       "      <th>Geography</th>\n",
       "      <th>Gender</th>\n",
       "      <th>Age</th>\n",
       "      <th>Tenure</th>\n",
       "      <th>Balance</th>\n",
       "      <th>NumOfProducts</th>\n",
       "      <th>HasCrCard</th>\n",
       "      <th>IsActiveMember</th>\n",
       "      <th>EstimatedSalary</th>\n",
       "      <th>Exited</th>\n",
       "    </tr>\n",
       "  </thead>\n",
       "  <tbody>\n",
       "    <tr>\n",
       "      <th>0</th>\n",
       "      <td>619</td>\n",
       "      <td>France</td>\n",
       "      <td>Female</td>\n",
       "      <td>42.0</td>\n",
       "      <td>2</td>\n",
       "      <td>0.00</td>\n",
       "      <td>1</td>\n",
       "      <td>1.0</td>\n",
       "      <td>1.0</td>\n",
       "      <td>101348.88</td>\n",
       "      <td>1</td>\n",
       "    </tr>\n",
       "    <tr>\n",
       "      <th>1</th>\n",
       "      <td>608</td>\n",
       "      <td>Spain</td>\n",
       "      <td>Female</td>\n",
       "      <td>41.0</td>\n",
       "      <td>1</td>\n",
       "      <td>83807.86</td>\n",
       "      <td>1</td>\n",
       "      <td>0.0</td>\n",
       "      <td>1.0</td>\n",
       "      <td>112542.58</td>\n",
       "      <td>0</td>\n",
       "    </tr>\n",
       "    <tr>\n",
       "      <th>2</th>\n",
       "      <td>502</td>\n",
       "      <td>France</td>\n",
       "      <td>Female</td>\n",
       "      <td>42.0</td>\n",
       "      <td>8</td>\n",
       "      <td>159660.80</td>\n",
       "      <td>3</td>\n",
       "      <td>1.0</td>\n",
       "      <td>0.0</td>\n",
       "      <td>113931.57</td>\n",
       "      <td>1</td>\n",
       "    </tr>\n",
       "    <tr>\n",
       "      <th>3</th>\n",
       "      <td>699</td>\n",
       "      <td>France</td>\n",
       "      <td>Female</td>\n",
       "      <td>39.0</td>\n",
       "      <td>1</td>\n",
       "      <td>0.00</td>\n",
       "      <td>2</td>\n",
       "      <td>0.0</td>\n",
       "      <td>0.0</td>\n",
       "      <td>93826.63</td>\n",
       "      <td>0</td>\n",
       "    </tr>\n",
       "    <tr>\n",
       "      <th>4</th>\n",
       "      <td>850</td>\n",
       "      <td>Spain</td>\n",
       "      <td>Female</td>\n",
       "      <td>43.0</td>\n",
       "      <td>2</td>\n",
       "      <td>125510.82</td>\n",
       "      <td>1</td>\n",
       "      <td>NaN</td>\n",
       "      <td>1.0</td>\n",
       "      <td>79084.10</td>\n",
       "      <td>0</td>\n",
       "    </tr>\n",
       "    <tr>\n",
       "      <th>...</th>\n",
       "      <td>...</td>\n",
       "      <td>...</td>\n",
       "      <td>...</td>\n",
       "      <td>...</td>\n",
       "      <td>...</td>\n",
       "      <td>...</td>\n",
       "      <td>...</td>\n",
       "      <td>...</td>\n",
       "      <td>...</td>\n",
       "      <td>...</td>\n",
       "      <td>...</td>\n",
       "    </tr>\n",
       "    <tr>\n",
       "      <th>9997</th>\n",
       "      <td>709</td>\n",
       "      <td>France</td>\n",
       "      <td>Female</td>\n",
       "      <td>36.0</td>\n",
       "      <td>7</td>\n",
       "      <td>0.00</td>\n",
       "      <td>1</td>\n",
       "      <td>0.0</td>\n",
       "      <td>1.0</td>\n",
       "      <td>42085.58</td>\n",
       "      <td>1</td>\n",
       "    </tr>\n",
       "    <tr>\n",
       "      <th>9998</th>\n",
       "      <td>772</td>\n",
       "      <td>Germany</td>\n",
       "      <td>Male</td>\n",
       "      <td>42.0</td>\n",
       "      <td>3</td>\n",
       "      <td>75075.31</td>\n",
       "      <td>2</td>\n",
       "      <td>1.0</td>\n",
       "      <td>0.0</td>\n",
       "      <td>92888.52</td>\n",
       "      <td>1</td>\n",
       "    </tr>\n",
       "    <tr>\n",
       "      <th>9999</th>\n",
       "      <td>772</td>\n",
       "      <td>Germany</td>\n",
       "      <td>Male</td>\n",
       "      <td>42.0</td>\n",
       "      <td>3</td>\n",
       "      <td>75075.31</td>\n",
       "      <td>2</td>\n",
       "      <td>1.0</td>\n",
       "      <td>0.0</td>\n",
       "      <td>92888.52</td>\n",
       "      <td>1</td>\n",
       "    </tr>\n",
       "    <tr>\n",
       "      <th>10000</th>\n",
       "      <td>792</td>\n",
       "      <td>France</td>\n",
       "      <td>Female</td>\n",
       "      <td>28.0</td>\n",
       "      <td>4</td>\n",
       "      <td>130142.79</td>\n",
       "      <td>1</td>\n",
       "      <td>1.0</td>\n",
       "      <td>0.0</td>\n",
       "      <td>38190.78</td>\n",
       "      <td>0</td>\n",
       "    </tr>\n",
       "    <tr>\n",
       "      <th>10001</th>\n",
       "      <td>792</td>\n",
       "      <td>France</td>\n",
       "      <td>Female</td>\n",
       "      <td>28.0</td>\n",
       "      <td>4</td>\n",
       "      <td>130142.79</td>\n",
       "      <td>1</td>\n",
       "      <td>1.0</td>\n",
       "      <td>0.0</td>\n",
       "      <td>38190.78</td>\n",
       "      <td>0</td>\n",
       "    </tr>\n",
       "  </tbody>\n",
       "</table>\n",
       "<p>10002 rows × 11 columns</p>\n",
       "</div>"
      ],
      "text/plain": [
       "       CreditScore Geography  Gender   Age  Tenure    Balance  NumOfProducts  \\\n",
       "0              619    France  Female  42.0       2       0.00              1   \n",
       "1              608     Spain  Female  41.0       1   83807.86              1   \n",
       "2              502    France  Female  42.0       8  159660.80              3   \n",
       "3              699    France  Female  39.0       1       0.00              2   \n",
       "4              850     Spain  Female  43.0       2  125510.82              1   \n",
       "...            ...       ...     ...   ...     ...        ...            ...   \n",
       "9997           709    France  Female  36.0       7       0.00              1   \n",
       "9998           772   Germany    Male  42.0       3   75075.31              2   \n",
       "9999           772   Germany    Male  42.0       3   75075.31              2   \n",
       "10000          792    France  Female  28.0       4  130142.79              1   \n",
       "10001          792    France  Female  28.0       4  130142.79              1   \n",
       "\n",
       "       HasCrCard  IsActiveMember  EstimatedSalary  Exited  \n",
       "0            1.0             1.0        101348.88       1  \n",
       "1            0.0             1.0        112542.58       0  \n",
       "2            1.0             0.0        113931.57       1  \n",
       "3            0.0             0.0         93826.63       0  \n",
       "4            NaN             1.0         79084.10       0  \n",
       "...          ...             ...              ...     ...  \n",
       "9997         0.0             1.0         42085.58       1  \n",
       "9998         1.0             0.0         92888.52       1  \n",
       "9999         1.0             0.0         92888.52       1  \n",
       "10000        1.0             0.0         38190.78       0  \n",
       "10001        1.0             0.0         38190.78       0  \n",
       "\n",
       "[10002 rows x 11 columns]"
      ]
     },
     "execution_count": 5,
     "metadata": {},
     "output_type": "execute_result"
    }
   ],
   "source": [
    "data = data.drop(['Surname', 'RowNumber', 'CustomerId'], axis=1) \n",
    "data"
   ]
  },
  {
   "cell_type": "code",
   "execution_count": 6,
   "id": "1c2a3354",
   "metadata": {},
   "outputs": [
    {
     "name": "stdout",
     "output_type": "stream",
     "text": [
      "<class 'pandas.core.frame.DataFrame'>\n",
      "RangeIndex: 10002 entries, 0 to 10001\n",
      "Data columns (total 11 columns):\n",
      " #   Column           Non-Null Count  Dtype  \n",
      "---  ------           --------------  -----  \n",
      " 0   CreditScore      10002 non-null  int64  \n",
      " 1   Geography        10001 non-null  object \n",
      " 2   Gender           10002 non-null  object \n",
      " 3   Age              10001 non-null  float64\n",
      " 4   Tenure           10002 non-null  int64  \n",
      " 5   Balance          10002 non-null  float64\n",
      " 6   NumOfProducts    10002 non-null  int64  \n",
      " 7   HasCrCard        10001 non-null  float64\n",
      " 8   IsActiveMember   10001 non-null  float64\n",
      " 9   EstimatedSalary  10002 non-null  float64\n",
      " 10  Exited           10002 non-null  int64  \n",
      "dtypes: float64(5), int64(4), object(2)\n",
      "memory usage: 859.7+ KB\n"
     ]
    }
   ],
   "source": [
    "data.info()"
   ]
  },
  {
   "cell_type": "code",
   "execution_count": 7,
   "id": "551f5458",
   "metadata": {},
   "outputs": [
    {
     "data": {
      "text/plain": [
       "(10002, 11)"
      ]
     },
     "execution_count": 7,
     "metadata": {},
     "output_type": "execute_result"
    }
   ],
   "source": [
    "data.shape"
   ]
  },
  {
   "cell_type": "code",
   "execution_count": 8,
   "id": "19adb167",
   "metadata": {},
   "outputs": [
    {
     "data": {
      "text/plain": [
       "CreditScore        0\n",
       "Geography          1\n",
       "Gender             0\n",
       "Age                1\n",
       "Tenure             0\n",
       "Balance            0\n",
       "NumOfProducts      0\n",
       "HasCrCard          1\n",
       "IsActiveMember     1\n",
       "EstimatedSalary    0\n",
       "Exited             0\n",
       "dtype: int64"
      ]
     },
     "execution_count": 8,
     "metadata": {},
     "output_type": "execute_result"
    }
   ],
   "source": [
    "data.isnull().sum()"
   ]
  },
  {
   "cell_type": "code",
   "execution_count": 9,
   "id": "03f3490f",
   "metadata": {},
   "outputs": [
    {
     "data": {
      "text/html": [
       "<div>\n",
       "<style scoped>\n",
       "    .dataframe tbody tr th:only-of-type {\n",
       "        vertical-align: middle;\n",
       "    }\n",
       "\n",
       "    .dataframe tbody tr th {\n",
       "        vertical-align: top;\n",
       "    }\n",
       "\n",
       "    .dataframe thead th {\n",
       "        text-align: right;\n",
       "    }\n",
       "</style>\n",
       "<table border=\"1\" class=\"dataframe\">\n",
       "  <thead>\n",
       "    <tr style=\"text-align: right;\">\n",
       "      <th></th>\n",
       "      <th>CreditScore</th>\n",
       "      <th>Geography</th>\n",
       "      <th>Gender</th>\n",
       "      <th>Age</th>\n",
       "      <th>Tenure</th>\n",
       "      <th>Balance</th>\n",
       "      <th>NumOfProducts</th>\n",
       "      <th>HasCrCard</th>\n",
       "      <th>IsActiveMember</th>\n",
       "      <th>EstimatedSalary</th>\n",
       "      <th>Exited</th>\n",
       "    </tr>\n",
       "  </thead>\n",
       "  <tbody>\n",
       "    <tr>\n",
       "      <th>9999</th>\n",
       "      <td>772</td>\n",
       "      <td>Germany</td>\n",
       "      <td>Male</td>\n",
       "      <td>42.0</td>\n",
       "      <td>3</td>\n",
       "      <td>75075.31</td>\n",
       "      <td>2</td>\n",
       "      <td>1.0</td>\n",
       "      <td>0.0</td>\n",
       "      <td>92888.52</td>\n",
       "      <td>1</td>\n",
       "    </tr>\n",
       "    <tr>\n",
       "      <th>10001</th>\n",
       "      <td>792</td>\n",
       "      <td>France</td>\n",
       "      <td>Female</td>\n",
       "      <td>28.0</td>\n",
       "      <td>4</td>\n",
       "      <td>130142.79</td>\n",
       "      <td>1</td>\n",
       "      <td>1.0</td>\n",
       "      <td>0.0</td>\n",
       "      <td>38190.78</td>\n",
       "      <td>0</td>\n",
       "    </tr>\n",
       "  </tbody>\n",
       "</table>\n",
       "</div>"
      ],
      "text/plain": [
       "       CreditScore Geography  Gender   Age  Tenure    Balance  NumOfProducts  \\\n",
       "9999           772   Germany    Male  42.0       3   75075.31              2   \n",
       "10001          792    France  Female  28.0       4  130142.79              1   \n",
       "\n",
       "       HasCrCard  IsActiveMember  EstimatedSalary  Exited  \n",
       "9999         1.0             0.0         92888.52       1  \n",
       "10001        1.0             0.0         38190.78       0  "
      ]
     },
     "execution_count": 9,
     "metadata": {},
     "output_type": "execute_result"
    }
   ],
   "source": [
    "data[data.duplicated()]"
   ]
  },
  {
   "cell_type": "code",
   "execution_count": 10,
   "id": "a04acbca",
   "metadata": {},
   "outputs": [],
   "source": [
    "data.dropna(inplace=True)\n",
    "data.drop_duplicates(keep='first', inplace = True)"
   ]
  },
  {
   "cell_type": "code",
   "execution_count": 11,
   "id": "1acb2919",
   "metadata": {},
   "outputs": [
    {
     "data": {
      "text/plain": [
       "(9996, 11)"
      ]
     },
     "execution_count": 11,
     "metadata": {},
     "output_type": "execute_result"
    }
   ],
   "source": [
    "data.shape"
   ]
  },
  {
   "cell_type": "code",
   "execution_count": 12,
   "id": "8c04ba21",
   "metadata": {},
   "outputs": [
    {
     "name": "stdout",
     "output_type": "stream",
     "text": [
      "-0.10645458137656881\n",
      "0.05302847198378358\n",
      "0.32410806470608133\n",
      "-0.12531397832251814\n",
      "-0.15596927099238198\n",
      "-0.014068357358581675\n"
     ]
    }
   ],
   "source": [
    "print(spearmanr(data['Gender'], data['Exited']).correlation)\n",
    "print(spearmanr(data['Geography'], data['Exited']).correlation)\n",
    "print(spearmanr(data['Age'], data['Exited']).correlation)\n",
    "print(spearmanr(data['NumOfProducts'], data['Exited']).correlation)\n",
    "print(spearmanr(data['IsActiveMember'], data['Exited']).correlation)\n",
    "print(spearmanr(data['Tenure'], data['Exited']).correlation)\n"
   ]
  },
  {
   "cell_type": "code",
   "execution_count": 13,
   "id": "b35836d3",
   "metadata": {},
   "outputs": [
    {
     "data": {
      "text/plain": [
       "Male      5454\n",
       "Female    4542\n",
       "Name: Gender, dtype: int64"
      ]
     },
     "execution_count": 13,
     "metadata": {},
     "output_type": "execute_result"
    }
   ],
   "source": [
    "data['Gender'].value_counts()"
   ]
  },
  {
   "cell_type": "code",
   "execution_count": 14,
   "id": "f3b85fe7",
   "metadata": {},
   "outputs": [
    {
     "data": {
      "text/plain": [
       "France     5011\n",
       "Germany    2509\n",
       "Spain      2476\n",
       "Name: Geography, dtype: int64"
      ]
     },
     "execution_count": 14,
     "metadata": {},
     "output_type": "execute_result"
    }
   ],
   "source": [
    "data['Geography'].value_counts()"
   ]
  },
  {
   "cell_type": "code",
   "execution_count": 15,
   "id": "7a92b82e",
   "metadata": {},
   "outputs": [
    {
     "data": {
      "text/plain": [
       "2     1046\n",
       "1     1035\n",
       "7     1027\n",
       "8     1025\n",
       "5     1012\n",
       "3     1009\n",
       "4      988\n",
       "9      984\n",
       "6      967\n",
       "10     490\n",
       "0      413\n",
       "Name: Tenure, dtype: int64"
      ]
     },
     "execution_count": 15,
     "metadata": {},
     "output_type": "execute_result"
    }
   ],
   "source": [
    "data['Tenure'].value_counts()"
   ]
  },
  {
   "cell_type": "code",
   "execution_count": 16,
   "id": "f773cd8d",
   "metadata": {},
   "outputs": [
    {
     "data": {
      "text/plain": [
       "1    5082\n",
       "2    4588\n",
       "3     266\n",
       "4      60\n",
       "Name: NumOfProducts, dtype: int64"
      ]
     },
     "execution_count": 16,
     "metadata": {},
     "output_type": "execute_result"
    }
   ],
   "source": [
    "data['NumOfProducts'].value_counts()"
   ]
  },
  {
   "cell_type": "code",
   "execution_count": 17,
   "id": "0de6fa1e",
   "metadata": {},
   "outputs": [
    {
     "name": "stdout",
     "output_type": "stream",
     "text": [
      "The probability of residents of France churning is approximately 0.162\n",
      "The probability of residents of Germany churning is approximately 0.324\n",
      "The probability of residents of Spain churning is approximately 0.167\n"
     ]
    }
   ],
   "source": [
    "aa = pd.crosstab(data.Geography, data.Exited)\n",
    "for i in aa.index:\n",
    "    s = sum(aa.loc[i].values)\n",
    "    print(f\"The probability of residents of {i} churning is approximately\", round(aa.loc[i].values[1]/s, 3))\n"
   ]
  },
  {
   "cell_type": "code",
   "execution_count": 18,
   "id": "1894afdc",
   "metadata": {},
   "outputs": [
    {
     "name": "stdout",
     "output_type": "stream",
     "text": [
      "The probability of female customer churning is approximately 0.251\n",
      "The probability of male customer churning is approximately 0.165\n"
     ]
    }
   ],
   "source": [
    "aa = pd.crosstab(data.Gender, data.Exited)\n",
    "for i in aa.index:\n",
    "    s = sum(aa.loc[i].values)\n",
    "    print(f\"The probability of {i.lower()} customer churning is approximately\", round(aa.loc[i].values[1]/s, 3))\n"
   ]
  },
  {
   "cell_type": "code",
   "execution_count": 19,
   "id": "4a09947f",
   "metadata": {},
   "outputs": [
    {
     "name": "stdout",
     "output_type": "stream",
     "text": [
      "The probability of non-active users to churn is approximately 0.269\n",
      "The probability of active users to churn is approximately 0.143\n"
     ]
    }
   ],
   "source": [
    "aa = pd.crosstab(data.IsActiveMember, data.Exited)\n",
    "for i in aa.index:\n",
    "    s = sum(aa.loc[i].values)\n",
    "    if i == 0:\n",
    "        j = 'non-active'\n",
    "    else:\n",
    "        j = 'active'\n",
    "    print(f\"The probability of {j} users to churn is approximately\", round(aa.loc[i].values[1]/s, 3))\n"
   ]
  },
  {
   "cell_type": "code",
   "execution_count": 20,
   "id": "0434772d",
   "metadata": {},
   "outputs": [
    {
     "data": {
      "text/html": [
       "<div>\n",
       "<style scoped>\n",
       "    .dataframe tbody tr th:only-of-type {\n",
       "        vertical-align: middle;\n",
       "    }\n",
       "\n",
       "    .dataframe tbody tr th {\n",
       "        vertical-align: top;\n",
       "    }\n",
       "\n",
       "    .dataframe thead th {\n",
       "        text-align: right;\n",
       "    }\n",
       "</style>\n",
       "<table border=\"1\" class=\"dataframe\">\n",
       "  <thead>\n",
       "    <tr style=\"text-align: right;\">\n",
       "      <th>Exited</th>\n",
       "      <th>0</th>\n",
       "      <th>1</th>\n",
       "    </tr>\n",
       "    <tr>\n",
       "      <th>NumOfProducts</th>\n",
       "      <th></th>\n",
       "      <th></th>\n",
       "    </tr>\n",
       "  </thead>\n",
       "  <tbody>\n",
       "    <tr>\n",
       "      <th>1</th>\n",
       "      <td>3673</td>\n",
       "      <td>1409</td>\n",
       "    </tr>\n",
       "    <tr>\n",
       "      <th>2</th>\n",
       "      <td>4240</td>\n",
       "      <td>348</td>\n",
       "    </tr>\n",
       "    <tr>\n",
       "      <th>3</th>\n",
       "      <td>46</td>\n",
       "      <td>220</td>\n",
       "    </tr>\n",
       "    <tr>\n",
       "      <th>4</th>\n",
       "      <td>0</td>\n",
       "      <td>60</td>\n",
       "    </tr>\n",
       "  </tbody>\n",
       "</table>\n",
       "</div>"
      ],
      "text/plain": [
       "Exited            0     1\n",
       "NumOfProducts            \n",
       "1              3673  1409\n",
       "2              4240   348\n",
       "3                46   220\n",
       "4                 0    60"
      ]
     },
     "execution_count": 20,
     "metadata": {},
     "output_type": "execute_result"
    }
   ],
   "source": [
    "aa = pd.crosstab(data.NumOfProducts, data.Exited)\n",
    "aa"
   ]
  },
  {
   "cell_type": "code",
   "execution_count": 21,
   "id": "d3b1e976",
   "metadata": {},
   "outputs": [
    {
     "name": "stdout",
     "output_type": "stream",
     "text": [
      "The probability of customers with 1 products of churning is approximately 0.277\n",
      "The probability of customers with 2 products of churning is approximately 0.076\n",
      "The probability of customers with 3 products of churning is approximately 0.827\n",
      "The probability of customers with 4 products of churning is approximately 1.0\n"
     ]
    }
   ],
   "source": [
    "aa = pd.crosstab(data.NumOfProducts, data.Exited)\n",
    "for i in aa.index:\n",
    "    s = sum(aa.loc[i].values)\n",
    "    print(f\"The probability of customers with {i} products of churning is approximately\", round(aa.loc[i].values[1]/s, 3))\n",
    "\n"
   ]
  },
  {
   "cell_type": "code",
   "execution_count": 22,
   "id": "f1ba4bf1",
   "metadata": {},
   "outputs": [
    {
     "name": "stdout",
     "output_type": "stream",
     "text": [
      "The probability of customers without credit card of churning is approximately 0.208\n",
      "The probability of customers with credit card of churning is approximately 0.202\n"
     ]
    }
   ],
   "source": [
    "aa = pd.crosstab(data.HasCrCard, data.Exited)\n",
    "for i in aa.index:\n",
    "    s = sum(aa.loc[i].values)\n",
    "    if i == 0:\n",
    "        j = 'without'\n",
    "    else:\n",
    "        j = 'with'\n",
    "    print(f\"The probability of customers {j} credit card of churning is approximately\", round(aa.loc[i].values[1]/s, 3))"
   ]
  },
  {
   "cell_type": "code",
   "execution_count": 23,
   "id": "4b0d4fa7",
   "metadata": {},
   "outputs": [],
   "source": [
    "data.Geography = data.Geography.map({'France': 0, 'Germany': 1, 'Spain': 2})\n",
    "data.Gender = data.Gender.map({'Female': 0, 'Male': 1})"
   ]
  },
  {
   "cell_type": "code",
   "execution_count": 24,
   "id": "63c47b59",
   "metadata": {},
   "outputs": [],
   "source": [
    "y = data.Exited\n",
    "data.drop(columns = ['Exited'], inplace = True)"
   ]
  },
  {
   "cell_type": "code",
   "execution_count": 25,
   "id": "2627e3af",
   "metadata": {},
   "outputs": [],
   "source": [
    "X_train, X_test, y_train, y_test = train_test_split(data, y, test_size = 0.3)"
   ]
  },
  {
   "cell_type": "code",
   "execution_count": 26,
   "id": "ea869586",
   "metadata": {},
   "outputs": [],
   "source": [
    "scaler = StandardScaler()\n",
    "scaler.fit(X_train)\n",
    "X_train = scaler.transform(X_train)\n",
    "X_test = scaler.transform(X_test)"
   ]
  },
  {
   "cell_type": "code",
   "execution_count": 27,
   "id": "a09270f6",
   "metadata": {},
   "outputs": [],
   "source": [
    "list_of_models = {\n",
    "    'logistic_regression' : LogisticRegression(random_state = 5, max_iter = 1000),\n",
    "    'decision_tree' : DecisionTreeClassifier(max_depth = 5, random_state = 42,criterion='entropy'),\n",
    "    'kneighbirs' : KNeighborsClassifier(n_neighbors=3),\n",
    "    'Gaussian' : GaussianNB(),\n",
    "    \"svm\" : svm.SVC(kernel='rbf') \n",
    "}"
   ]
  },
  {
   "cell_type": "code",
   "execution_count": 28,
   "id": "bd9bd4b1",
   "metadata": {},
   "outputs": [
    {
     "name": "stdout",
     "output_type": "stream",
     "text": [
      "                     accuracy_s  f1_train_scores  f1 test_scores  \\\n",
      "logistic_regression    0.807936         0.587537        0.589786   \n",
      "decision_tree          0.851951         0.736999        0.722811   \n",
      "kneighbors             0.816272         0.825201        0.679773   \n",
      "Gaussian               0.826942         0.638987        0.629996   \n",
      "svm                    0.846616         0.733313        0.695414   \n",
      "\n",
      "                     Recall test scores  \n",
      "logistic_regression            0.579141  \n",
      "decision_tree                  0.689779  \n",
      "kneighbors                     0.661891  \n",
      "Gaussian                       0.608161  \n",
      "svm                            0.661405  \n"
     ]
    }
   ],
   "source": [
    "accuracy_s = []\n",
    "f1_train_scores = [] \n",
    "f1_test_scores = [] \n",
    "recall_test_scores = []\n",
    "\n",
    "model_names = list_of_models.keys()\n",
    "\n",
    "for model in model_names:\n",
    "    \n",
    "    list_of_models[model].fit(X_train, y_train)\n",
    "    y_train_pred = list_of_models[model].predict(X_train)\n",
    "    \n",
    "\n",
    "    f1_train = f1_score(y_train, y_train_pred, average='macro')\n",
    "\n",
    "    y_test_pred = list_of_models[model].predict(X_test)\n",
    "    \n",
    "    \n",
    "    f1_test = f1_score(y_test, y_test_pred, average='macro')\n",
    "\n",
    "    recall_test_score = recall_score(y_test, y_test_pred, average='macro')\n",
    "    \n",
    "    accuracy_s.append(accuracy_score(y_test, y_test_pred))\n",
    "    f1_train_scores.append(f1_train)\n",
    "    f1_test_scores.append(f1_test)\n",
    "    recall_test_scores.append(recall_test_score)\n",
    "\n",
    "\n",
    "d = {\n",
    "    'accuracy_s': accuracy_s,\n",
    "    'f1_train_scores':f1_train_scores,\n",
    "    'f1 test_scores': f1_test_scores,\n",
    "    'Recall test scores': recall_test_scores\n",
    "}\n",
    "df = pd.DataFrame(d)\n",
    "df.index = ['logistic_regression','decision_tree' ,'kneighbors' ,'Gaussian','svm']\n",
    "print(df)\n",
    "\n",
    " \n"
   ]
  },
  {
   "cell_type": "code",
   "execution_count": 29,
   "id": "4473ff42",
   "metadata": {},
   "outputs": [],
   "source": [
    "import numpy\n",
    "import tensorflow"
   ]
  },
  {
   "cell_type": "code",
   "execution_count": 42,
   "id": "58695740",
   "metadata": {},
   "outputs": [
    {
     "name": "stdout",
     "output_type": "stream",
     "text": [
      "Epoch 1/10\n",
      "154/154 [==============================] - 1s 3ms/step - loss: 0.5641 - accuracy: 0.7788 - val_loss: 0.5093 - val_accuracy: 0.8000\n",
      "Epoch 2/10\n",
      "154/154 [==============================] - 0s 2ms/step - loss: 0.4952 - accuracy: 0.7944 - val_loss: 0.4786 - val_accuracy: 0.8000\n",
      "Epoch 3/10\n",
      "154/154 [==============================] - 0s 2ms/step - loss: 0.4728 - accuracy: 0.7944 - val_loss: 0.4637 - val_accuracy: 0.8000\n",
      "Epoch 4/10\n",
      "154/154 [==============================] - 0s 2ms/step - loss: 0.4587 - accuracy: 0.7946 - val_loss: 0.4544 - val_accuracy: 0.7995\n",
      "Epoch 5/10\n",
      "154/154 [==============================] - 0s 2ms/step - loss: 0.4496 - accuracy: 0.7974 - val_loss: 0.4479 - val_accuracy: 0.8024\n",
      "Epoch 6/10\n",
      "154/154 [==============================] - 0s 3ms/step - loss: 0.4426 - accuracy: 0.8009 - val_loss: 0.4433 - val_accuracy: 0.8105\n",
      "Epoch 7/10\n",
      "154/154 [==============================] - 0s 2ms/step - loss: 0.4376 - accuracy: 0.8040 - val_loss: 0.4402 - val_accuracy: 0.8090\n",
      "Epoch 8/10\n",
      "154/154 [==============================] - 0s 3ms/step - loss: 0.4341 - accuracy: 0.8087 - val_loss: 0.4379 - val_accuracy: 0.8100\n",
      "Epoch 9/10\n",
      "154/154 [==============================] - 0s 2ms/step - loss: 0.4316 - accuracy: 0.8097 - val_loss: 0.4364 - val_accuracy: 0.8110\n",
      "Epoch 10/10\n",
      "154/154 [==============================] - 0s 2ms/step - loss: 0.4298 - accuracy: 0.8111 - val_loss: 0.4352 - val_accuracy: 0.8124\n",
      "219/219 [==============================] - 0s 1ms/step\n",
      "0.8466155385128377\n"
     ]
    }
   ],
   "source": [
    "from tensorflow.keras.models import Sequential\n",
    "from tensorflow.keras.layers import Dense\n",
    "\n",
    "# Create a simple neural network model\n",
    "model = Sequential([Dense(10, activation='sigmoid'), Dense(1, activation='sigmoid')])\n",
    "# Compile the model\n",
    "model.compile(optimizer='adam', loss='binary_crossentropy', metrics=['accuracy'])\n",
    "# Train the model\n",
    "model.fit(X_train, y_train, epochs=10, batch_size=32, validation_split=0.3)\n",
    "\n",
    "y_train_pred = model.predict(X_train)\n",
    "\n",
    "print(accuracy_score(y_test, y_test_pred))\n"
   ]
  },
  {
   "cell_type": "code",
   "execution_count": 46,
   "id": "38f55c30",
   "metadata": {},
   "outputs": [
    {
     "name": "stdout",
     "output_type": "stream",
     "text": [
      "Epoch 1/10\n",
      "175/175 [==============================] - 1s 4ms/step - loss: 1.5595 - accuracy: 0.8031 - val_loss: 0.7237 - val_accuracy: 0.8221\n",
      "Epoch 2/10\n",
      "175/175 [==============================] - 0s 3ms/step - loss: 0.5004 - accuracy: 0.8190 - val_loss: 0.5573 - val_accuracy: 0.8443\n",
      "Epoch 3/10\n",
      "175/175 [==============================] - 0s 2ms/step - loss: 0.4581 - accuracy: 0.8321 - val_loss: 0.4759 - val_accuracy: 0.8507\n",
      "Epoch 4/10\n",
      "175/175 [==============================] - 0s 2ms/step - loss: 0.4649 - accuracy: 0.8356 - val_loss: 0.4602 - val_accuracy: 0.8457\n",
      "Epoch 5/10\n",
      "175/175 [==============================] - 0s 2ms/step - loss: 0.4234 - accuracy: 0.8446 - val_loss: 0.5046 - val_accuracy: 0.8600\n",
      "Epoch 6/10\n",
      "175/175 [==============================] - 0s 2ms/step - loss: 0.4216 - accuracy: 0.8533 - val_loss: 0.5272 - val_accuracy: 0.8593\n",
      "Epoch 7/10\n",
      "175/175 [==============================] - 0s 2ms/step - loss: 0.4220 - accuracy: 0.8537 - val_loss: 0.4954 - val_accuracy: 0.8643\n",
      "Epoch 8/10\n",
      "175/175 [==============================] - 0s 2ms/step - loss: 0.4055 - accuracy: 0.8540 - val_loss: 0.4589 - val_accuracy: 0.8614\n",
      "Epoch 9/10\n",
      "175/175 [==============================] - 0s 3ms/step - loss: 0.4316 - accuracy: 0.8417 - val_loss: 0.5010 - val_accuracy: 0.8486\n",
      "Epoch 10/10\n",
      "175/175 [==============================] - 0s 2ms/step - loss: 0.3941 - accuracy: 0.8494 - val_loss: 0.4738 - val_accuracy: 0.8514\n",
      "219/219 [==============================] - 0s 1ms/step\n"
     ]
    }
   ],
   "source": [
    "\n",
    "# Create a simple neural network model\n",
    "model = Sequential([Dense(100, activation='relu'), Dense(10, activation='relu'),Dense(1, activation='relu')])\n",
    "# Compile the model\n",
    "model.compile(optimizer='adam', loss='binary_crossentropy', metrics=['accuracy'])\n",
    "# Train the model\n",
    "model.fit(X_train, y_train, epochs=10, batch_size=32, validation_split=0.2)\n",
    "\n",
    "y_train_pred = model.predict(X_train)"
   ]
  },
  {
   "cell_type": "code",
   "execution_count": 54,
   "id": "6856883b",
   "metadata": {},
   "outputs": [
    {
     "name": "stdout",
     "output_type": "stream",
     "text": [
      "Epoch 1/10\n",
      "175/175 [==============================] - 3s 5ms/step - loss: 0.4696 - accuracy: 0.8183 - val_loss: 0.4060 - val_accuracy: 0.8521\n",
      "Epoch 2/10\n",
      "175/175 [==============================] - 1s 5ms/step - loss: 0.4551 - accuracy: 0.8356 - val_loss: 0.4019 - val_accuracy: 0.8557\n",
      "Epoch 3/10\n",
      "175/175 [==============================] - 1s 4ms/step - loss: 0.3771 - accuracy: 0.8485 - val_loss: 0.3940 - val_accuracy: 0.8529\n",
      "Epoch 4/10\n",
      "175/175 [==============================] - 1s 3ms/step - loss: 0.3531 - accuracy: 0.8503 - val_loss: 0.4105 - val_accuracy: 0.8457\n",
      "Epoch 5/10\n",
      "175/175 [==============================] - 1s 4ms/step - loss: 0.3452 - accuracy: 0.8556 - val_loss: 0.4258 - val_accuracy: 0.8586\n",
      "Epoch 6/10\n",
      "175/175 [==============================] - 1s 4ms/step - loss: 0.3330 - accuracy: 0.8583 - val_loss: 0.4057 - val_accuracy: 0.8593\n",
      "Epoch 7/10\n",
      "175/175 [==============================] - 1s 4ms/step - loss: 0.3339 - accuracy: 0.8583 - val_loss: 0.3806 - val_accuracy: 0.8607\n",
      "Epoch 8/10\n",
      "175/175 [==============================] - 1s 4ms/step - loss: 0.3167 - accuracy: 0.8647 - val_loss: 0.4344 - val_accuracy: 0.8657\n",
      "Epoch 9/10\n",
      "175/175 [==============================] - 1s 4ms/step - loss: 0.3235 - accuracy: 0.8662 - val_loss: 0.4279 - val_accuracy: 0.8636\n",
      "Epoch 10/10\n",
      "175/175 [==============================] - 1s 4ms/step - loss: 0.3311 - accuracy: 0.8619 - val_loss: 0.4309 - val_accuracy: 0.8593\n",
      "219/219 [==============================] - 0s 2ms/step\n"
     ]
    }
   ],
   "source": [
    "\n",
    "# Create a simple neural network model\n",
    "model = Sequential([Dense(150, activation='relu'), Dense(100, activation='relu'),Dense(10, activation='relu'),Dense(1, activation='relu')])\n",
    "# Compile the model\n",
    "model.compile(optimizer='adam', loss='binary_crossentropy', metrics=['accuracy'])\n",
    "# Train the model\n",
    "model.fit(X_train, y_train, epochs=10, batch_size=32, validation_split=0.2)\n",
    "\n",
    "y_train_pred = model.predict(X_train)"
   ]
  }
 ],
 "metadata": {
  "kernelspec": {
   "display_name": "Python 3",
   "language": "python",
   "name": "python3"
  },
  "language_info": {
   "codemirror_mode": {
    "name": "ipython",
    "version": 3
   },
   "file_extension": ".py",
   "mimetype": "text/x-python",
   "name": "python",
   "nbconvert_exporter": "python",
   "pygments_lexer": "ipython3",
   "version": "3.8.8"
  }
 },
 "nbformat": 4,
 "nbformat_minor": 5
}
